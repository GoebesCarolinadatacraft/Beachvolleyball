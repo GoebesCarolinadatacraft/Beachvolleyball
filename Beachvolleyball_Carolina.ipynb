{
 "cells": [
  {
   "cell_type": "code",
   "execution_count": 5,
   "metadata": {
    "collapsed": true
   },
   "outputs": [
    {
     "name": "stdout",
     "output_type": "stream",
     "text": [
      "0.29278117211139815 TeamA\n",
      "0.5468200838477493 TeamB\n",
      "TeamB 1 TeamA 0\n",
      "0\n",
      "0.2873519278996949 TeamA\n",
      "0.4290214869177487 TeamB\n",
      "TeamB 2 TeamA 0\n",
      "1\n",
      "0.3249813580938572 TeamA\n",
      "0.33941627220999043 TeamB\n",
      "TeamB 3 TeamA 0\n",
      "2\n",
      "0.33846531898811894 TeamA\n",
      "0.47530443920565857 TeamB\n",
      "TeamB 4 TeamA 0\n",
      "3\n",
      "0.35055403705861576 TeamA\n",
      "0.4299521742959408 TeamB\n",
      "TeamB 5 TeamA 0\n",
      "4\n",
      "0.3664904327834469 TeamA\n",
      "0.23964708969902862 TeamB\n",
      "TeamB 5 TeamA 1\n",
      "5\n",
      "0.2255955393880847 TeamA\n",
      "0.48063666721455883 TeamB\n",
      "TeamB 6 TeamA 1\n",
      "6\n",
      "0.28548619370960515 TeamA\n",
      "0.49217075576111347 TeamB\n",
      "TeamB 7 TeamA 1\n",
      "7\n",
      "0.24102306947362662 TeamA\n",
      "0.41970040163412675 TeamB\n",
      "TeamB 8 TeamA 1\n",
      "8\n",
      "0.24564283376072654 TeamA\n",
      "0.24609296738357883 TeamB\n",
      "TeamB 9 TeamA 1\n",
      "9\n",
      "0.34251075002295317 TeamA\n",
      "0.4824324796622567 TeamB\n",
      "TeamB 10 TeamA 1\n",
      "10\n",
      "0.21758402967526155 TeamA\n",
      "0.2582396152690547 TeamB\n",
      "TeamB 11 TeamA 1\n",
      "11\n",
      "0.4880570093849884 TeamA\n",
      "0.37562459501392936 TeamB\n",
      "TeamB 11 TeamA 2\n",
      "12\n",
      "0.22843930400326412 TeamA\n",
      "0.3076706588013247 TeamB\n",
      "TeamB 12 TeamA 2\n",
      "13\n",
      "0.35720318690834807 TeamA\n",
      "0.43022102768215026 TeamB\n",
      "TeamB 13 TeamA 2\n",
      "14\n",
      "0.4755442292850701 TeamA\n",
      "0.235991890501563 TeamB\n",
      "TeamB 13 TeamA 3\n",
      "15\n",
      "0.36033541683676656 TeamA\n",
      "0.3610388255858444 TeamB\n",
      "TeamB 14 TeamA 3\n",
      "16\n",
      "0.3673218666161875 TeamA\n",
      "0.4501085709256956 TeamB\n",
      "TeamB 15 TeamA 3\n",
      "17\n",
      "0.22129545372493387 TeamA\n",
      "0.43152891164477347 TeamB\n",
      "TeamB 16 TeamA 3\n",
      "18\n",
      "0.2787518500696965 TeamA\n",
      "0.44589865731386913 TeamB\n",
      "TeamB 17 TeamA 3\n",
      "19\n",
      "0.24725536863762923 TeamA\n",
      "0.2185429549598793 TeamB\n",
      "TeamB 17 TeamA 4\n",
      "20\n",
      "0.10643917590928326 TeamA\n",
      "0.43191827555036 TeamB\n",
      "TeamB 18 TeamA 4\n",
      "21\n",
      "punkte fertig\n",
      "0.31133325282614116 TeamA\n",
      "0.5782213334480549 TeamB\n",
      "TeamB 19 TeamA 4\n",
      "22\n",
      "0.34410818308892355 TeamA\n",
      "0.4910124379295951 TeamB\n",
      "TeamB 20 TeamA 4\n",
      "23\n",
      "0.3090356445514932 TeamA\n",
      "0.38055877734109095 TeamB\n",
      "TeamB 21 TeamA 4\n",
      "24\n",
      "0.36318607447410467 TeamA\n",
      "0.4373820859887875 TeamB\n",
      "TeamB 22 TeamA 4\n",
      "25\n"
     ]
    }
   ],
   "source": [
    "\n",
    "\n",
    "import numpy as np\n",
    "punkte = 0\n",
    "punkteA = 0\n",
    "punkteB = 0\n",
    "\n",
    "results = []\n",
    "\n",
    "while max(punkteA, punkteB) < 22:\n",
    "    ballA = np.random.normal(0.3, 0.1)\n",
    "    print(ballA , \"TeamA\")\n",
    "    ballB = np.random.normal(0.4, 0.1)\n",
    "    print(ballB , \"TeamB\")\n",
    "\n",
    "\n",
    "    if ballA > ballB:\n",
    "        punkteA += 1\n",
    "    else:\n",
    "        punkteB += 1\n",
    "    print(\"TeamB\",  punkteB, \"TeamA\", punkteA)\n",
    "    print(punkte)\n",
    "\n",
    "\n",
    "    if punkte == 21:\n",
    "        print(\"punkte fertig\")\n",
    "    punkte = punkte + 1\n",
    "    results.append((punkteA , punkteB))\n",
    "\n"
   ]
  },
  {
   "cell_type": "code",
   "execution_count": 7,
   "outputs": [
    {
     "data": {
      "text/plain": "    TeamA_punkte  TeamB_punkte\n0              0             1\n1              0             2\n2              0             3\n3              0             4\n4              0             5\n5              1             5\n6              1             6\n7              1             7\n8              1             8\n9              1             9\n10             1            10\n11             1            11\n12             2            11\n13             2            12\n14             2            13\n15             3            13\n16             3            14\n17             3            15\n18             3            16\n19             3            17\n20             4            17\n21             4            18\n22             4            19\n23             4            20\n24             4            21\n25             4            22",
      "text/html": "<div>\n<style scoped>\n    .dataframe tbody tr th:only-of-type {\n        vertical-align: middle;\n    }\n\n    .dataframe tbody tr th {\n        vertical-align: top;\n    }\n\n    .dataframe thead th {\n        text-align: right;\n    }\n</style>\n<table border=\"1\" class=\"dataframe\">\n  <thead>\n    <tr style=\"text-align: right;\">\n      <th></th>\n      <th>TeamA_punkte</th>\n      <th>TeamB_punkte</th>\n    </tr>\n  </thead>\n  <tbody>\n    <tr>\n      <th>0</th>\n      <td>0</td>\n      <td>1</td>\n    </tr>\n    <tr>\n      <th>1</th>\n      <td>0</td>\n      <td>2</td>\n    </tr>\n    <tr>\n      <th>2</th>\n      <td>0</td>\n      <td>3</td>\n    </tr>\n    <tr>\n      <th>3</th>\n      <td>0</td>\n      <td>4</td>\n    </tr>\n    <tr>\n      <th>4</th>\n      <td>0</td>\n      <td>5</td>\n    </tr>\n    <tr>\n      <th>5</th>\n      <td>1</td>\n      <td>5</td>\n    </tr>\n    <tr>\n      <th>6</th>\n      <td>1</td>\n      <td>6</td>\n    </tr>\n    <tr>\n      <th>7</th>\n      <td>1</td>\n      <td>7</td>\n    </tr>\n    <tr>\n      <th>8</th>\n      <td>1</td>\n      <td>8</td>\n    </tr>\n    <tr>\n      <th>9</th>\n      <td>1</td>\n      <td>9</td>\n    </tr>\n    <tr>\n      <th>10</th>\n      <td>1</td>\n      <td>10</td>\n    </tr>\n    <tr>\n      <th>11</th>\n      <td>1</td>\n      <td>11</td>\n    </tr>\n    <tr>\n      <th>12</th>\n      <td>2</td>\n      <td>11</td>\n    </tr>\n    <tr>\n      <th>13</th>\n      <td>2</td>\n      <td>12</td>\n    </tr>\n    <tr>\n      <th>14</th>\n      <td>2</td>\n      <td>13</td>\n    </tr>\n    <tr>\n      <th>15</th>\n      <td>3</td>\n      <td>13</td>\n    </tr>\n    <tr>\n      <th>16</th>\n      <td>3</td>\n      <td>14</td>\n    </tr>\n    <tr>\n      <th>17</th>\n      <td>3</td>\n      <td>15</td>\n    </tr>\n    <tr>\n      <th>18</th>\n      <td>3</td>\n      <td>16</td>\n    </tr>\n    <tr>\n      <th>19</th>\n      <td>3</td>\n      <td>17</td>\n    </tr>\n    <tr>\n      <th>20</th>\n      <td>4</td>\n      <td>17</td>\n    </tr>\n    <tr>\n      <th>21</th>\n      <td>4</td>\n      <td>18</td>\n    </tr>\n    <tr>\n      <th>22</th>\n      <td>4</td>\n      <td>19</td>\n    </tr>\n    <tr>\n      <th>23</th>\n      <td>4</td>\n      <td>20</td>\n    </tr>\n    <tr>\n      <th>24</th>\n      <td>4</td>\n      <td>21</td>\n    </tr>\n    <tr>\n      <th>25</th>\n      <td>4</td>\n      <td>22</td>\n    </tr>\n  </tbody>\n</table>\n</div>"
     },
     "execution_count": 7,
     "metadata": {},
     "output_type": "execute_result"
    }
   ],
   "source": [
    "import pandas as pd\n",
    "# Ausgabe als DataFrame als Variable\n",
    "#df = pd.DataFrame(results, columns=[\"Spiele\", \"TeamA_punkte\", \"TeamB_punkte\"])\n",
    "#df"
   ],
   "metadata": {
    "collapsed": false
   }
  },
  {
   "cell_type": "code",
   "execution_count": 27,
   "outputs": [
    {
     "name": "stdout",
     "output_type": "stream",
     "text": [
      "[(0, 0, 1000), (1, 0, 1000), (2, 172, 828), (3, 322, 678), (4, 321, 679), (5, 338, 662), (6, 396, 604), (7, 389, 611), (8, 406, 594), (9, 397, 603), (10, 421, 579)]\n",
      "    Risiko  TeamA_punkte  TeamB_punkte\n",
      "0        0             0          1000\n",
      "1        1             0          1000\n",
      "2        2           172           828\n",
      "3        3           322           678\n",
      "4        4           321           679\n",
      "5        5           338           662\n",
      "6        6           396           604\n",
      "7        7           389           611\n",
      "8        8           406           594\n",
      "9        9           397           603\n",
      "10      10           421           579\n",
      "Für die gegebenen Staerken 6 und 8 wird für TeamA empfohlen mit Risiko : 10 zu spielen\n"
     ]
    }
   ],
   "source": [
    "import random\n",
    "results = []\n",
    "StaerkeA = int(input(\"Bitte Stärke von A eingeben [0-10]: \"))\n",
    "StaerkeB = int(input(\"Bitte Stärke von B eingeben [0-10]\"))\n",
    "for risk in range(0, 11): #Spielstaerke\n",
    "    gewinnA = 0\n",
    "    gewinnB = 0\n",
    "    TeamA = 0\n",
    "    TeamB = 0\n",
    "    Spiele = 0\n",
    "    while Spiele < 1000:\n",
    "        while True:\n",
    "            risiko = risk\n",
    "            risikofaktor = random.randint(-risiko, risiko +1) #Normalverteilung\n",
    "            ball = StaerkeA + risikofaktor - StaerkeB\n",
    "            if ball > 0: #Punkt für TeamA\n",
    "                TeamA +=1\n",
    "                if TeamA >= 21 or TeamB >= 21:\n",
    "                    if abs(TeamA - TeamB) >= 2:\n",
    "                        gewinnA += 1\n",
    "                        Spiele += 1\n",
    "                        break\n",
    "            elif ball < 0:\n",
    "                TeamB += 1\n",
    "                if TeamA >= 21 or TeamB >= 21:\n",
    "                    if abs(TeamA - TeamB) >= 2:\n",
    "                        gewinnB += 1\n",
    "                        Spiele += 1\n",
    "                        break\n",
    "    results.append((risiko, gewinnA, gewinnB))\n",
    "print(results)\n",
    "import pandas as pd\n",
    "# Ausgabe als DataFrame als Variable\n",
    "df = pd.DataFrame(results, columns=[\"Risiko\", \"TeamA_punkte\", \"TeamB_punkte\"])\n",
    "print(df)\n",
    "maxA = max( results, key=lambda x: x[1])\n",
    "print(f\"Für die gegebenen Staerken {StaerkeA} und {StaerkeB} wird für TeamA empfohlen mit Risiko : {maxA[0]} zu spielen\")\n",
    "\n",
    "\n"
   ],
   "metadata": {
    "collapsed": false
   }
  },
  {
   "cell_type": "code",
   "execution_count": null,
   "outputs": [],
   "source": [
    "\"\"\"werte_liste_text.append((risiko, TeamA_punkte, TeamB_punkte))\n",
    "werte_liste_text.append((f\"Risiko: {risiko} , f\" TeamA_punkte: {gewinnA}\", f\" TeamB_punkte: {gewinnB}\"))\n",
    "for e in werte_liste_text:\n",
    "    print(*e)\"\"\"\n"
   ],
   "metadata": {
    "collapsed": false
   }
  },
  {
   "cell_type": "code",
   "execution_count": 22,
   "outputs": [
    {
     "name": "stdout",
     "output_type": "stream",
     "text": [
      "Für die gegebenen Staerken 6 und 4 wird für TeamA empfohlen mit Risiko : 0 zu spielen\n"
     ]
    }
   ],
   "source": [],
   "metadata": {
    "collapsed": false
   }
  },
  {
   "cell_type": "code",
   "execution_count": null,
   "outputs": [],
   "source": [],
   "metadata": {
    "collapsed": false
   }
  },
  {
   "cell_type": "code",
   "execution_count": null,
   "outputs": [],
   "source": [],
   "metadata": {
    "collapsed": false
   }
  }
 ],
 "metadata": {
  "kernelspec": {
   "display_name": "Python 3",
   "language": "python",
   "name": "python3"
  },
  "language_info": {
   "codemirror_mode": {
    "name": "ipython",
    "version": 2
   },
   "file_extension": ".py",
   "mimetype": "text/x-python",
   "name": "python",
   "nbconvert_exporter": "python",
   "pygments_lexer": "ipython2",
   "version": "2.7.6"
  }
 },
 "nbformat": 4,
 "nbformat_minor": 0
}
